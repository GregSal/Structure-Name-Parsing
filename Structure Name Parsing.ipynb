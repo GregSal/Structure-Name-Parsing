{
 "cells": [
  {
   "cell_type": "markdown",
   "metadata": {},
   "source": [
    "# Structure Name Parsing\n",
    "\n",
    "This notebook is intended to document the TG263 nomenclature recommendations.\n",
    "It provides some simple functions for general validation of the standard, such \n",
    "as name length.\n",
    "It also provides regular expressions and functions for parsing structure names \n",
    "that follow the nomenclature standard.  The parsing functions have two uses:\n",
    "1. To verify that the structure name conforms to the TG283 standard.\n",
    "2. To identify specific groups of structures for other analysis.\n",
    "\n",
    "Test examples are taken from the TG263 document text, from the supplemental \n",
    "worksheet and from the Eclipse templates supplied by TG263."
   ]
  },
  {
   "cell_type": "markdown",
   "metadata": {},
   "source": [
    "## Requirements\n",
    "The following packages are required for this notebook:\n",
    "- python=3.9.7\n",
    "- xlwings=0.27.15\n",
    "- pandas=1.3.4\n",
    "- jupyterlab=3.5.2\n",
    "\n",
    "Python can be downloaded and installed from \n",
    "[Python Website](https://www.python.org/)\n",
    "\n",
    "Once python is installed, the packages can be installed with the following commands:\n",
    "- `python -m pip install xlwings==0.27.15`\n",
    "- `python -m pip install pandas==1.3.4`\n",
    "- `python -m pip install jupyterlab==3.5.2`\n",
    "\n",
    "This notebook can be opened with the following command:\n",
    "\n",
    "`jupyter lab --notebook-dir=\"<Path to Folder>\"`\n"
   ]
  },
  {
   "cell_type": "markdown",
   "metadata": {},
   "source": [
    "## A note on Regular Expressions\n",
    "The regular expressions (regex) used in this notebook take advantage of the \n",
    "'Named Group' pattern available in the Python version of regular expressions.\n",
    "These Named Groups make both data extraction and documentation much simpler, \n",
    "but they are not supported in many other languages.\n",
    "\n",
    "Named groups have the format: `(?P<StructureName>...)`. where, in this \n",
    "case *StructureName* is the name of the captured group.\n",
    "Removing the `?P<StructureName>` portion of the regex patterns should make them \n",
    "compatible with other languages, but will require the captured groups to be \n",
    "referenced by an index number.\n",
    "\n",
    "Regex strings are always prefixed by `r` in this code.  This is not a \n",
    "requirement, but is a python directive to ignore escape sequences for \n",
    "non-printable characters within the string such as `\\n` for a \n",
    "*new line* character. The `r` is included for all strings as a formatting style.\n",
    "An alternative would be to remove the `r` prefix and replace every occurrence \n",
    "of `\\` in this code with `\\\\`.\n",
    "\n",
    "For the stake of readability, all regular expression strings are broken down \n",
    "into logical sections with trailing comments.  The individual regex strings are \n",
    "combined using the `''.join([A, B, ... Z])` command where A ..Z represent the \n",
    "individual strings.  The comments are indented to indicate the grouping within \n",
    "the full regular expression.\n",
    "\n",
    "Example Regular Expression String:\n",
    "```Python\n",
    "example_re_pat = ''.join([\n",
    "    r'(?P<BaseStructure>',  # Start of named group BaseStructure\n",
    "    r'(?:'                    # Start of non-captured group\n",
    "    r'[A-Z]',                   # Starts with a capital letter.\n",
    "    r'(?:[A-Z]+|[a-z]+)',       # Remaining text as all capitals or all lowercase.\n",
    "    r'){1,2}'                 # End of group with optional repeat (CamelCase name)\n",
    "    r'(?P<Pleural>',          # Start of optional named group Pleural\n",
    "    r'[si]',                    # Optional plural indicator 's' or 'i'\n",
    "    r')?'                     # End of optional Pleural group\n",
    "    r')'                    # End of BaseStructure group\n",
    "    ])\n",
    "```"
   ]
  },
  {
   "cell_type": "markdown",
   "metadata": {},
   "source": [
    "## Setup"
   ]
  },
  {
   "cell_type": "markdown",
   "metadata": {},
   "source": [
    "### Imports"
   ]
  },
  {
   "cell_type": "code",
   "execution_count": 1,
   "metadata": {},
   "outputs": [],
   "source": [
    "from typing import Dict, List, Union\n",
    "\n",
    "from pathlib import Path\n",
    "import re\n",
    "import xml.etree.ElementTree as ET\n",
    "from itertools import chain\n",
    "\n",
    "import pandas as pd\n",
    "import xlwings as xw\n"
   ]
  },
  {
   "cell_type": "markdown",
   "metadata": {},
   "source": [
    "### Paths"
   ]
  },
  {
   "cell_type": "code",
   "execution_count": 2,
   "metadata": {},
   "outputs": [],
   "source": [
    "reference_path = Path.cwd()\n"
   ]
  },
  {
   "cell_type": "markdown",
   "metadata": {},
   "source": [
    "### Utility Functions"
   ]
  },
  {
   "cell_type": "code",
   "execution_count": 3,
   "metadata": {},
   "outputs": [],
   "source": [
    "def combine_columns(df: pd.DataFrame, columns: List[str], sep=' ')->pd.Series:\n",
    "    '''Combine text from multiple columns with a separator.\n",
    "\n",
    "    Args:\n",
    "        df (pd.DataFrame): The table containing the columns to be merged.\n",
    "            All of the columns should contain strings or NA values.\n",
    "        columns (List[str]: The names of the columns to be merged.\n",
    "        sep (str): A delimiter to place between the text from each column.\n",
    "\n",
    "    Returns:\n",
    "        pd.Series: A new text column containing the combined text from each\n",
    "            column.\n",
    "    '''\n",
    "    row_dict = {}\n",
    "    for index, row in df.iterrows():\n",
    "        text_items = []\n",
    "        for col in columns:\n",
    "            text = row.at[col]\n",
    "            if text:\n",
    "                text_items.append(str(text))\n",
    "        combined_text = sep.join(text_items)\n",
    "        row_dict[index] = combined_text\n",
    "    new_col = pd.Series(row_dict)\n",
    "    return new_col\n"
   ]
  },
  {
   "cell_type": "code",
   "execution_count": 4,
   "metadata": {},
   "outputs": [],
   "source": [
    "def to_cgy(text: str)->Dict[str, Union[float, int]]:\n",
    "    '''Convert numbers with Gy units to cGy and identify fractions.\n",
    "\n",
    "    Numbers without units or x are assumed to be total dose in cGy.\n",
    "    Numbers with trailing 'Gy' are converted to cGy.\n",
    "    Number preceded by x are fractions. dose values are assumed to be dose\n",
    "    per fraction. Total dose is calculated by:\n",
    "        $dose_per_fraction x fractions$\n",
    "    The decimal point may also be represented by a 'p' e.g. 50p4Gy\n",
    "    If the text does not match any of the valid formats, return the original\n",
    "    text.\n",
    "\n",
    "    Args:\n",
    "        text (str): Dose as a string in one of the following forms:\n",
    "            ####\n",
    "            ##Gy\n",
    "            ##.##Gy\n",
    "            ##p##Gy\n",
    "            ####x#\n",
    "            ##Gyx#\n",
    "            ##.##Gyx#\n",
    "            ##p##Gyx#\n",
    "\n",
    "    Returns:\n",
    "        Tuple[float, int]: _description_\n",
    "    '''\n",
    "    if not text:\n",
    "        dose_dict = {'TotalDose': text, 'Fractions': None}\n",
    "        return pd.Series(dose_dict)\n",
    "    # Convert 'p' to decimal point.\n",
    "    try:\n",
    "        text_cnv1 = text.replace('p', '.')\n",
    "    except AttributeError:\n",
    "        dose_dict = {'TotalDose': text, 'Fractions': None}\n",
    "        return pd.Series(dose_dict)\n",
    "    # Find fractions\n",
    "    dose_parts = text_cnv1.split('x', 1)\n",
    "    if len(dose_parts) > 1:\n",
    "        try:\n",
    "            fractions = int(dose_parts[1])\n",
    "        except ValueError:\n",
    "            dose_dict = {'TotalDose': text, 'Fractions': None}\n",
    "            return pd.Series(dose_dict)\n",
    "    else:\n",
    "        fractions = None\n",
    "    dose_str = dose_parts[0]\n",
    "    # Convert Gy to cGy\n",
    "    if dose_str.endswith('Gy'):\n",
    "        try:\n",
    "            dose = float(dose_str[:-2])  # Drop the Gy suffix\n",
    "        except ValueError:\n",
    "            dose_dict = {'TotalDose': text, 'Fractions': None}\n",
    "            return pd.Series(dose_dict)\n",
    "        dose = dose * 100   # Gy to cGy conversion\n",
    "    else:\n",
    "        try:\n",
    "            dose = float(dose_str)\n",
    "        except ValueError:\n",
    "            dose_dict = {'TotalDose': text, 'Fractions': None}\n",
    "            return pd.Series(dose_dict)\n",
    "    # Convert dose per fraction to total dose\n",
    "    if fractions:\n",
    "        total_dose = dose * fractions\n",
    "    else:\n",
    "        total_dose = dose\n",
    "    dose_dict = {'TotalDose': total_dose, 'Fractions': fractions}\n",
    "    return pd.Series(dose_dict)\n"
   ]
  },
  {
   "cell_type": "code",
   "execution_count": 5,
   "metadata": {},
   "outputs": [],
   "source": [
    "def extract_name_group(names: pd.DataFrame, re_pattern: re.Pattern,\n",
    "                       match_column: str, idx: pd.Series = None)->pd.DataFrame:\n",
    "    '''Extract portions of a structure name.\n",
    "\n",
    "    The re_pattern is applied to the 'Remainder' column to extract named parts.\n",
    "    The resulting DataFrame is merged with names and the Remainder columns is\n",
    "    updated with new Remainders from the extraction.\n",
    "\n",
    "    Args:\n",
    "        nt_names (pd.DataFrame): A table with structure names. It must contain\n",
    "            a column 'Remainder', which is used as the starting point for\n",
    "            extracting name parts.\n",
    "        re_pattern (re.Pattern): A regular expression with named groups.  It\n",
    "            must contain one named group that will always be present if a\n",
    "            successful match is made.  It must also contain a 'Remainder'\n",
    "            named group that contains the unmatched part of the structure name.\n",
    "        match_column (str): The name of the named group that is always present\n",
    "            when a successful match is made.  Used to update the 'Remainder'\n",
    "            column.\n",
    "        idx (pd.Series, optional): A mask type index to a subset of names to\n",
    "            apply the match to.  If not supplied, all names are matched.\n",
    "            Default is None.\n",
    "\n",
    "    Returns:\n",
    "        pd.DataFrame: The supplied table with new columns containing the\n",
    "            structure name parts.\n",
    "    '''\n",
    "    # Extract group parts based on regular expression.\n",
    "    if idx is not None:\n",
    "        extr_names = names.loc[idx, 'Remainder'].str.extract(re_pattern)\n",
    "    else:\n",
    "        extr_names = names.loc[:, 'Remainder'].str.extract(re_pattern)\n",
    "\n",
    "    # Merge extracted group parts with structure names.\n",
    "    names = names.merge(extr_names, how='left',\n",
    "                            left_index=True, right_index=True,\n",
    "                            suffixes=('', '_ex'))\n",
    "\n",
    "    # Update Remainder text\n",
    "    nt_idx = names[match_column].isna()\n",
    "    # Where a match was not found, keep the original Remainder text, otherwise\n",
    "    # update Remainder with resulting Remainder after the match.\n",
    "    names.Remainder = names.Remainder.where(nt_idx, names.Remainder_ex)\n",
    "    names.drop(columns=['Remainder_ex'], inplace=True)\n",
    "    return names\n"
   ]
  },
  {
   "cell_type": "markdown",
   "metadata": {},
   "source": [
    "## TG263 Nomenclature Recommendations"
   ]
  },
  {
   "cell_type": "markdown",
   "metadata": {},
   "source": [
    "### Test functions"
   ]
  },
  {
   "cell_type": "markdown",
   "metadata": {},
   "source": [
    "- All structure names are limited to <u>16 characters</u> or fewer to ensure \n",
    "  compatibility with a majority of vended systems."
   ]
  },
  {
   "cell_type": "code",
   "execution_count": 6,
   "metadata": {},
   "outputs": [],
   "source": [
    "def valid_length(text: str, max_length=16)->bool:\n",
    "    '''Test for valid string length.\n",
    "\n",
    "    String length must be less than or equal to max_length.\n",
    "\n",
    "    Args:\n",
    "        text (str): String to test for length.\n",
    "        max_length (int, optional): Maximum allowable length. Defaults to 16.\n",
    "\n",
    "    Returns:\n",
    "        bool: True if text length is less than or equal to max_length.\n",
    "    '''\n",
    "    text_len = len(text)\n",
    "    return text_len <= max_length\n"
   ]
  },
  {
   "cell_type": "markdown",
   "metadata": {},
   "source": [
    "- <u>No spaces</u> are used."
   ]
  },
  {
   "cell_type": "code",
   "execution_count": 7,
   "metadata": {},
   "outputs": [],
   "source": [
    "def no_spaces(text: str)->bool:\n",
    "    '''Verify that text does not contain spaces.\n",
    "\n",
    "    Args:\n",
    "        text (str): String to test for spaces.\n",
    "\n",
    "    Returns:\n",
    "        bool: True if text does not contain spaces.\n",
    "    '''\n",
    "    has_space = ' ' in text\n",
    "    return ~has_space\n"
   ]
  },
  {
   "cell_type": "markdown",
   "metadata": {},
   "source": [
    "- All structure names must resolve to unique values, <u>independent of \n",
    "  capitalization</u>. This ensures that systems with case-insensitive formats \n",
    "  do not result in overlapping definitions. "
   ]
  },
  {
   "cell_type": "code",
   "execution_count": 8,
   "metadata": {},
   "outputs": [],
   "source": [
    "def no_dup(structures: List[str])->bool:\n",
    "    '''Verify that a list of structure names does not contain duplicates.\n",
    "\n",
    "    Duplicates tests will ignore case.\n",
    "\n",
    "    Args:\n",
    "        structures (List[str]): List of structure names to test for duplicates.\n",
    "\n",
    "    Returns:\n",
    "        bool: True if list of structure names does not contain case-insensitive\n",
    "            duplicates.\n",
    "    '''\n",
    "    unique_structures = {struc.lower() for struc in structures}\n",
    "    has_dup = len(unique_structures) < len(structures)\n",
    "    return ~has_dup\n"
   ]
  },
  {
   "cell_type": "markdown",
   "metadata": {},
   "source": [
    "- Structures that are not used for dose evaluation (e.g., optimization \n",
    "  structures, high/low dose regions) should be prefixed with a \n",
    "  <u>z</u> or <u>_</u> character."
   ]
  },
  {
   "cell_type": "code",
   "execution_count": 9,
   "metadata": {},
   "outputs": [],
   "source": [
    "def not_evaluated(text: str)->bool:\n",
    "    '''Identify 'Not Evaluated' structure names.\n",
    "\n",
    "    'Not Evaluated' structure names are prefixed with a 'z' or '_'.\n",
    "\n",
    "    Args:\n",
    "        text (str): Structure name to be checked.\n",
    "\n",
    "    Returns:\n",
    "        bool: True if structure name is 'Not Evaluated'.\n",
    "    '''\n",
    "    exclude_prefixes = ['Z', '_']\n",
    "    exclude = text[0] in exclude_prefixes\n",
    "    return exclude\n"
   ]
  },
  {
   "cell_type": "markdown",
   "metadata": {},
   "source": [
    "- A consistent root structure name is used for all substructures \n",
    "  (e.g., SeminalVes and SeminalVes_Dist have a consistent root structure name, \n",
    "  but SeminalVesicle and SemVes_Dist do not have a consistent root \n",
    "  structure name).\n",
    "\n",
    "  - Not yet implemented"
   ]
  },
  {
   "cell_type": "markdown",
   "metadata": {},
   "source": [
    "### Non-Evaluated Nomenclature"
   ]
  },
  {
   "cell_type": "markdown",
   "metadata": {},
   "source": [
    "- Structures that are not used for dose evaluation (e.g., optimization \n",
    "  structures, high/low dose regions) should be prefixed with a \n",
    "  <u>z</u> or <u>_</u> character.\n",
    "- Text after the 'z' or '_' can be anything and is not evaluated."
   ]
  },
  {
   "cell_type": "code",
   "execution_count": 10,
   "metadata": {},
   "outputs": [],
   "source": [
    "not_evaluated_pat = ''.join([\n",
    "    r'(?P<NotEvalChar>',   # Start of named group NotEvalChar\n",
    "    r'[zZ_]',              # Z or _ character\n",
    "    r')',                  # End of named group NotEvalChar\n",
    "    r'(?P<NotEvaluated>',  # Start of named group NotEvaluated\n",
    "    r'.*',                 # Remainder of the text.\n",
    "    r')',                  # End of named group NotEvaluated\n",
    "    ])\n"
   ]
  },
  {
   "cell_type": "markdown",
   "metadata": {},
   "source": [
    "### Non-Target Nomenclature"
   ]
  },
  {
   "cell_type": "markdown",
   "metadata": {},
   "source": [
    "#### Primary Structure Name\n",
    "- Non-target structures can have multiple components with similar patterns.\n",
    "- Non-target structures can also be indicator components of target structures, \n",
    "  so the basic non-target structure pattern will be referenced there.\n",
    "- Identifying Non-Target components will require multiple steps.\n",
    "1. Define a generic pattern for non-Target structure names.  \n",
    "2. Use special indicator characters to help separate structure parts.\n",
    "3. Iteratively extract components of the structure text.\n"
   ]
  },
  {
   "cell_type": "markdown",
   "metadata": {},
   "source": [
    "##### Basic non-target structure pattern\n",
    "- The first character of each structure category is <u>capitalized</u>.\n",
    "- An <u>underscore character ('_')</u> is used to separate categorizations.\n",
    "- <u>CamelCase</u> is only used when a structure name implies two concepts which \n",
    "  are not distinct categories. \n",
    "- Compound structures are identified by adding an , <u>s</u> or an <u>i</u>\n",
    "  to the end of the name as appropriate.\n",
    "- <u>Arabic numbers</u> are used to reference specific items in a larger group \n",
    "  (See table below).\n",
    "- The *format _L#* is used to axilla lymph node levels (See table below).\n",
    "- <u>Roman numerals</u> are used for neck node levels and nerves  \n",
    "  (See table below).\n",
    "- Partial structures are indicated by '\\~' suffix.\n",
    "- If a custom qualifier string is used, the custom qualifier is placed at the \n",
    "  end after a ‘^’ character (e.g., ).\n",
    "  \n",
    "|TG263-Primary Name|Description|\n",
    "|-|-|\n",
    "|VB_L4|Lumbar Vertebra L4|\n",
    "|VB_T06|Thoracic Vertebra T6|\n",
    "|Rib11_R|Eleventh rib Right|\n",
    "|Rib12_L|Twelfth rib Left|\n",
    "|LN_Ax_L1_L|Level 1 Axillary Lymph Node Left|\n",
    "|LN_Ax_L3_R|Level 3 Axillary Lymph Node Right|\n",
    "|LN_Neck_IA_L|Level IA (Submental) neck node Left|\n",
    "|LN_Neck_II_L|Level IIA & IIB (Upper Jugular) neck nodes Left|\n",
    "|CN_III_R|Third Cranial Nerve (Oculomotor nerve) Right|\n",
    "|CN_IX|Ninth Cranial Nerve (Glossopharyngeal nerve)|\n",
    "|Brain\\~|Partial Brain|\n",
    "|Lung\\~_L|Partial left lung|\n",
    "|PTV^Physician1|PTV with custom qualifier Physician1|\n",
    "|GTV_Liver^ICG|GTV with custom qualifier ICG|\n"
   ]
  },
  {
   "cell_type": "code",
   "execution_count": 11,
   "metadata": {},
   "outputs": [],
   "source": [
    "basic_sub_structure_pat = ''.join([\n",
    "    r'(',               # Start of group\n",
    "    r'[A-Z]',             # Starts with a capital letter.\n",
    "    r'([A-Z]+|[a-z]+)?',  # Remaining text as all capitals or all lowercase.\n",
    "    r'[si]?',             # Optional plural indicator 's' or 'i'\n",
    "    r'[~]?',              # Optional partial indicator '~'\n",
    "    r'[0-9]{0,2}',        # Optional trailing 1 or 2 digit number.\n",
    "    r'_?'                 # Optional ending '_'\n",
    "    r'\\^?'                # Optional ending '^'\n",
    "    r')'                # End of group\n",
    "    ])\n"
   ]
  },
  {
   "cell_type": "code",
   "execution_count": 12,
   "metadata": {},
   "outputs": [],
   "source": [
    "basic_structure_pat = ''.join([\n",
    "    r'(?P<StructureName>',  # Start of named group StructureName\n",
    "    r'(',                     # Start of group\n",
    "    basic_sub_structure_pat,    # Sub-structure pattern definition\n",
    "    r')+'                     # End of repeatable group\n",
    "    r')'                    # End of group\n",
    "    ])\n"
   ]
  },
  {
   "cell_type": "markdown",
   "metadata": {},
   "source": [
    "### Parsing Non-Target Structures"
   ]
  },
  {
   "cell_type": "markdown",
   "metadata": {},
   "source": [
    "#### Major Category\n",
    "\n",
    "|Prefix|Meaning|Example|\n",
    "|-|-|-|\n",
    "|A|artery|A_Aorta, A_Carotid|\n",
    "|V|vein|V_Portal, V_Pulmonary|\n",
    "|LN|lymph node|LN_Ax_L1, LN_IMN|\n",
    "|CN|cranial nerve|CN_IX_L, CN_XII_R|\n",
    "|Glnd|glandular structure|Glnd_Submand|\n",
    "|Bone|bone|Bone_Hyoid, Bone_Pelvic|\n",
    "|Musc|muscle|Musc_Masseter, Musc_Sclmast_L|\n",
    "|Spc|Space|Spc_Bowel, Spc_Retrophar_L|\n",
    "|VB|vertebral body||\n",
    "|Sinus|sinus|Sinus_Frontal, Sinus_Maxillary|\n"
   ]
  },
  {
   "cell_type": "code",
   "execution_count": 13,
   "metadata": {},
   "outputs": [],
   "source": [
    "category_def = {\n",
    "    'A': 'artery',\n",
    "    'V': 'vein',\n",
    "    'LN': 'lymph node',\n",
    "    'CN': 'cranial nerve',\n",
    "    'Glnd': 'glandular structure',\n",
    "    'Bone': 'bone',\n",
    "    'Musc': 'muscle',\n",
    "    'Spc': 'Space',\n",
    "    'VB': 'vertebral body',\n",
    "    'Sinus': 'sinus'\n",
    "    }\n"
   ]
  },
  {
   "cell_type": "code",
   "execution_count": 14,
   "metadata": {},
   "outputs": [],
   "source": [
    "major_category_pat = re.compile(''.join([\n",
    "    r'^'                        # Beginning of string.\n",
    "    r'(?P<StructureCategory>',  # Start of named group StructureCategory\n",
    "    r'(?:',                         # Start of non-captured Root options group\n",
    "    r'A|V|LN|CN|Glnd|',             # Root options\n",
    "    r'Bone|Musc|VB|Sinus',          # Root options continued\n",
    "    r')'                          # End of group\n",
    "    r'(?P<Pleural>',              # Start of Optional named group Pleural\n",
    "    r'[si]',                        # Optional plural indicator 's' or 'i'\n",
    "    r')?'                         # End of Optional Pleural group\n",
    "    r')'                        # End of StructureCategory group\n",
    "    r'(?:',                     # Start of non-captured optional group\n",
    "    r'_'                          # '_' as delimiter\n",
    "    r'(?P<Remainder>',            # Start of named group Remainder\n",
    "    r'.*',                          # All remaining text\n",
    "    r')'                          # End of Remainder group\n",
    "    r')?'                       # End of optional group\n",
    "    r'$'                        # End of string.\n",
    "    ]))\n"
   ]
  },
  {
   "cell_type": "markdown",
   "metadata": {},
   "source": [
    "#### Custom Qualifier Text\n",
    "- Custom qualifier text is delimited by '^' e.g. Lungs^Ex"
   ]
  },
  {
   "cell_type": "code",
   "execution_count": 15,
   "metadata": {},
   "outputs": [],
   "source": [
    "custom_oar_qualifier_pat = re.compile(''.join([\n",
    "    r'^'                    # Beginning of string.\n",
    "    r'(?P<Remainder>',      # Start of named group Remainder\n",
    "    r'[^^]*',                 # All text before a '^'\n",
    "    r')'                    # End of Remainder group\n",
    "    r'(?:',                 # Start of non-captured optional group\n",
    "    r'(?:\\^)'                 # '^' character (not captured)\n",
    "    r'(?P<CustomStructure>',  # Start of named group CustomStructure\n",
    "    r'.+'                       # Remainder of text\n",
    "    r')'                      # End of CustomStructure group\n",
    "    r')?'                   # End of optional group\n",
    "    ]))\n"
   ]
  },
  {
   "cell_type": "markdown",
   "metadata": {},
   "source": [
    "#### Spatial Categorizations\n",
    "|Suffix|Meaning|\n",
    "|-|-|\n",
    "|L|left|\n",
    "|R|Right|\n",
    "|A|Anterior|\n",
    "|P|Posterior|\n",
    "|I|Inferior|\n",
    "|S|Superior|\n",
    "|RUL|Right Upper lobe|\n",
    "|RLL|Right Lower lobe|\n",
    "|RML|Right middle lobe|\n",
    "|LUL|Left Upper lobe|\n",
    "|LLL|LeftLower lobe|\n",
    "|NAdj|non-adjacent|\n",
    "|Dist|distal|\n",
    "|Prox|proximal|\n"
   ]
  },
  {
   "cell_type": "markdown",
   "metadata": {},
   "source": [
    "##### Issues with Identifying Spatial Indicators\n",
    "Single character spatial indicators (*L*, *R*, *A*, *P*, *S*, and *I*)\n",
    "can be confused with cranial nerves and nodal levels that use roman numerals:\n",
    "- `CN_I` is the *first cranial nerve* not the *inferior cranial nerve*\n",
    "- `LN_Neck_IA_L` is the *Level IA (Submental) neck node Left*\n",
    "\n",
    "Vertebral body references use *L* and *S* to refer to the lumbar and sacral \n",
    "vertebrae:\n",
    "- `VB_L` refers to the *Lumbar Vertebrae*\n",
    "- `VB_S` refers to the *Sacral Vertebrae*\n",
    "\n",
    "It is also possible for spatial indicators to be combined: \n",
    "- `Nasalconcha_LI` is the *<u>Inferior</u> Nasal Concha <u>Left</u>*\n",
    "\n",
    "- Before searching for spatial indicators deal with special cases\n"
   ]
  },
  {
   "cell_type": "markdown",
   "metadata": {},
   "source": [
    "##### Vertebral Body References"
   ]
  },
  {
   "cell_type": "code",
   "execution_count": 16,
   "metadata": {},
   "outputs": [],
   "source": [
    "vertebrae_level = {\n",
    "    'C': 'Cervical',\n",
    "    'T': 'Thoracic',\n",
    "    'L': 'Lumbar',\n",
    "    'S': 'Sacral'\n",
    "    }\n"
   ]
  },
  {
   "cell_type": "code",
   "execution_count": 17,
   "metadata": {},
   "outputs": [],
   "source": [
    "vb_ref_pat = re.compile(''.join([\n",
    "    r'^'                      # Beginning of string.\n",
    "    r'(?P<VertebraeLevel>',   # Start of named group VertebraeLevel\n",
    "    r'[CTLS]'                   # One of Cervical Thoracic, Lumbar, Sacral\n",
    "    r')'                      # End of VertebraeLevel group\n",
    "    r'(?P<VertebraeNumber>',  # Start of named group VertebraeNumber\n",
    "    r'[0-9]{0,2}'               # Optional 1 or 2 digit level number\n",
    "    r')'                      # End of VertebraeNumber group\n",
    "    r'(?:',                   # Start of non-captured optional group\n",
    "    r'_'                        # '_' as delimiter\n",
    "    r'(?P<Remainder>',          # Start of named group Remainder\n",
    "    r'.*',                        # All remaining text\n",
    "    r')'                        # End of Remainder group\n",
    "    r')?'                     # End of optional group\n",
    "    r'$'                      # End of string.\n",
    "    ]))\n"
   ]
  },
  {
   "cell_type": "markdown",
   "metadata": {},
   "source": [
    "##### Cranial Nerve References"
   ]
  },
  {
   "cell_type": "code",
   "execution_count": 18,
   "metadata": {},
   "outputs": [],
   "source": [
    "cn_ref_pat = re.compile(''.join([\n",
    "    r'^'               # Beginning of string.\n",
    "    r'(?P<NerveLevel>',  # Start of named group NerveLevel\n",
    "    r'[IVX]+'              # Roman Numeral Characters\n",
    "    r')'                 # End of NerveLevel group\n",
    "    r'(?:',                   # Start of non-captured optional group\n",
    "    r'_'                        # '_' as delimiter\n",
    "    r'(?P<Remainder>',          # Start of named group Remainder\n",
    "    r'.*',                        # All remaining text\n",
    "    r')'                        # End of Remainder group\n",
    "    r')?'                     # End of optional group\n",
    "    r'$'                      # End of string.\n",
    "    ]))\n"
   ]
  },
  {
   "cell_type": "markdown",
   "metadata": {},
   "source": [
    "##### Neck Node References"
   ]
  },
  {
   "cell_type": "code",
   "execution_count": 19,
   "metadata": {},
   "outputs": [],
   "source": [
    "nn_ref_pat = re.compile(''.join([\n",
    "    r'^'              # Beginning of string.\n",
    "    r'(?P<NeckNode>',   # Start of named group NeckNode\n",
    "    r'Neck'               # The text 'Neck'\n",
    "    r')'                # End of NeckNode group\n",
    "    r'_'                # '_' as delimiter\n",
    "    r'(?P<NodeLevel>',  # Start of named group NodeLevel\n",
    "    r'[IVX]+'             # Roman Numeral characters\n",
    "    r'[AB]?'              # A or B sub level characters\n",
    "    r')'                # End of NerveLevel group\n",
    "    r'(?:',             # Start of non-captured optional group\n",
    "    r'_'                  # '_' as delimiter\n",
    "    r'(?P<Remainder>',    # Start of named group Remainder\n",
    "    r'.*',                  # All remaining text\n",
    "    r')'                  # End of Remainder group\n",
    "    r')?'               # End of optional group\n",
    "    r'$'              # End of string.\n",
    "    ]))\n"
   ]
  },
  {
   "cell_type": "markdown",
   "metadata": {},
   "source": [
    "##### Find Spatial Indicators  \n",
    "Once conflicting patterns have been identified, Spatial Indicators can be \n",
    "extracted."
   ]
  },
  {
   "cell_type": "code",
   "execution_count": 20,
   "metadata": {},
   "outputs": [],
   "source": [
    "spatial_def = {\n",
    "    'L': 'left',\n",
    "    'R': 'Right',\n",
    "    'A': 'Anterior',\n",
    "    'P': 'Posterior',\n",
    "    'I': 'Inferior',\n",
    "    'S': 'Superior',\n",
    "    'RUL': 'Right Upper lobe',\n",
    "    'RLL': 'Right Lower lobe',\n",
    "    'RML': 'Right middle lobe',\n",
    "    'LUL': 'Left Upper lobe',\n",
    "    'LLL': 'LeftLower lobe',\n",
    "    'NAdj': 'non-adjacent',\n",
    "    'Dist': 'distal',\n",
    "    'Prox': 'proximal'\n",
    "    }\n"
   ]
  },
  {
   "cell_type": "code",
   "execution_count": 21,
   "metadata": {},
   "outputs": [],
   "source": [
    "spatial_pat = re.compile(''.join([\n",
    "    r'^'                     # Beginning of string.\n",
    "    r'(?:',                  # Start of optional non-capturing group\n",
    "    r'(?P<Remainder>',         # Start of named group Remainder\n",
    "    r'.*?',                      # All unused text (non-greedy)\n",
    "    r')'                       # End of Remainder group\n",
    "    r'_'                       # '_' as delimiter\n",
    "    r')?',                   # End of optional group\n",
    "    r'(?P<SpatialIndicator>',  # Start of named group SpatialIndicator\n",
    "    r'(?:'                       # Start of non-capture group\n",
    "    r'L|R|A|P|I|S|',               # Basic directions\n",
    "    r'NAdj|Dist|Prox|',            # Relative directions\n",
    "    r'RUL|RLL|LUL|LLL',            # Lung quadrants\n",
    "    r')+'                        # End of group with multiple Indicators\n",
    "    r')'                       # End of SpatialIndicator group\n",
    "    r'$'                       # End of string.\n",
    "    ]))\n"
   ]
  },
  {
   "cell_type": "markdown",
   "metadata": {},
   "source": [
    "#### Planning organ at risk volumes\n",
    "- Begins with 'PRV'\n",
    "- Ends with optional 1 or 2 digit expansion number (in mm)\n"
   ]
  },
  {
   "cell_type": "code",
   "execution_count": 22,
   "metadata": {},
   "outputs": [],
   "source": [
    "prv_pat = re.compile(''.join([\n",
    "    r'^'                # Beginning of string.\n",
    "    r'(?P<Remainder>',  # Start of named group Remainder\n",
    "    r'.*?',               # All unused text (non-greedy)\n",
    "    r')'                # End of Remainder group\n",
    "    r'_?'               # '_' as delimiter\n",
    "    r'(?P<Prv>',        # Start of named group Prv\n",
    "    r'PRV'                # PRV designator\n",
    "    r'(?P<PrvSize>',      # Start of named group PrvSize\n",
    "    r'[0-9]{1,2}'           # Optional expansion size as 1 or 2 digits\n",
    "    r')?'                 # End of optional PrvSize group\n",
    "    r')'                # End of Prv group\n",
    "    r'$'                # End of string.\n",
    "    ]))\n"
   ]
  },
  {
   "cell_type": "markdown",
   "metadata": {},
   "source": [
    "#### Partial Structure Indicator\n",
    "- Partial structure indicated by '\\~' suffix e.g. Brain\\~, Lung\\~_L|\n"
   ]
  },
  {
   "cell_type": "code",
   "execution_count": 23,
   "metadata": {},
   "outputs": [],
   "source": [
    "partial_pat = re.compile(''.join([\n",
    "    r'^'                # Beginning of string.\n",
    "    r'(?P<Remainder>',  # Start of named group Remainder\n",
    "    r'.*?',               # All unused text (non-greedy)\n",
    "    r')'                # End of Remainder group\n",
    "    r'(?P<Partial>',    # Start of named group Partial\n",
    "    r'~'                  # Partial designator '~'\n",
    "    r')'                # End of Partial group\n",
    "    r'$'                # End of string.\n",
    "    ]))\n"
   ]
  },
  {
   "cell_type": "markdown",
   "metadata": {},
   "source": [
    "#### Base Structure Name"
   ]
  },
  {
   "cell_type": "markdown",
   "metadata": {},
   "source": [
    "- An <u>underscore character ('_')</u> is used to separate categorizations \n",
    "  (e.g., Bowel_Bag).\n",
    "\n",
    "- <u>Camel case</u> (a compound word where each word starts with a capital \n",
    "  letter and there is no space between words such as CamelCase) is only used \n",
    "  when a structure name implies two concepts, but the concepts do not appear \n",
    "  as distinct categories in common usage (e.g., CaudaEquina instead of \n",
    "  Cauda_Equina) because there are not several examples of Cauda_xxxxx. \n",
    "  \n",
    "- Compound structures are identified using the plural, i.e., <u>the name ends \n",
    "- with an *'s'* or an *'i'*</u> as appropriate on the root structure name \n",
    "- (e.g., Lungs, Kidneys, Hippocampi, LNs (for all lymph nodes), Ribs_L.)"
   ]
  },
  {
   "cell_type": "code",
   "execution_count": 24,
   "metadata": {},
   "outputs": [],
   "source": [
    "base_structure_pat = re.compile(''.join([\n",
    "    r'^'                       # Beginning of string.\n",
    "    r'(?P<BaseStructure>',     # Start of named group BaseStructure\n",
    "    r'(?:'                       # Start of non-captured group\n",
    "    r'[A-Z]',                      # Starts with a capital letter.\n",
    "    r'(?:[A-Z]+|[a-z]+)',          # Remaining text as all capitals or all lowercase.\n",
    "    r'){1,2}'                    # End of group with optional repeat (CamelCase name)\n",
    "    r'(?P<Pleural>',             # Start of optional named group Pleural\n",
    "    r'[si]',                       # Optional plural indicator 's' or 'i'\n",
    "    r')?'                        # End of optional Pleural group\n",
    "    r')'                       # End of BaseStructure group\n",
    "    r'(?:',                    # Start of non-captured optional group\n",
    "    r'_'                         # '_' as delimiter\n",
    "    r'(?P<StructureQualifier>',  # Start of named group StructureQualifier\n",
    "    r'[A-Z]',                      # Capital letter to start Structure Qualifier\n",
    "    r'(?:[A-Z]+|[a-z]+)',          # Remaining text as all capitals or all lowercase.\n",
    "    r')'                         # End of StructureQualifier group\n",
    "    r'|'                       # OR\n",
    "    r'(?:',                      # Start of non-captured group\n",
    "    r'_?'                          # optional '_' as delimiter\n",
    "    r'(?P<StructureNumber>',       # Start of named group StructureNumber\n",
    "    r'[A-Z]?',                       # Optional capital letter\n",
    "    r'[0-9]+',                       # Numeric Structure Qualifier\n",
    "    r')'                           # End of StructureNumber group\n",
    "    r')'                         # End of non-captured group\n",
    "    r')*'                      # End of optional multiple non-captured group\n",
    "    r'(?P<Remainder>',         # Start of named group Remainder\n",
    "    r'.*',                       # All remaining text\n",
    "    r')'                       # End of Remainder group\n",
    "    r'$'                       # End of string.\n",
    "    ]))\n"
   ]
  },
  {
   "cell_type": "markdown",
   "metadata": {},
   "source": [
    "### Target Nomenclature"
   ]
  },
  {
   "cell_type": "markdown",
   "metadata": {},
   "source": [
    "#### Target Type\n",
    "\n",
    "- The first set of characters must be one of the allowed target types:\n",
    "    - GTV\n",
    "    - CTV\n",
    "    - ITV\n",
    "    - IGTV (Internal Gross Target Volume—gross disease with margin for motion)\n",
    "    - ICTV (Internal Clinical Target Volume—clinical disease with margin for motion)\n",
    "    - PTV\n",
    "    - PTV! for low-dose PTV volumes that exclude overlapping high-dose volumes"
   ]
  },
  {
   "cell_type": "code",
   "execution_count": 25,
   "metadata": {},
   "outputs": [],
   "source": [
    "target_type_def = {\n",
    "    'GTV': 'Gross Target Volume',\n",
    "    'CTV': 'Clinical Target Volume',\n",
    "    'PTV': 'Planning Target Volume',\n",
    "    'ITV': 'Internal Target Volume',\n",
    "    'IGTV': 'Internal Gross Target Volume',\n",
    "    'ICTV': 'Internal Clinical Target Volume',\n",
    "    'PTV!': 'Partial Planning Target Volume'\n",
    "    }\n"
   ]
  },
  {
   "cell_type": "code",
   "execution_count": 26,
   "metadata": {},
   "outputs": [],
   "source": [
    "target_type_pat = ''.join([\n",
    "    r'(',             # Start of required group\n",
    "    r'GTV|CTV|PTV|',    # Target Type options\n",
    "    r'ITV|IGTV|ICTV|',  # Internal target volume types\n",
    "    r'PTV!'             # low-dose PTV volumes excluding high-dose volumes\n",
    "    r')'              # End of the required group\n",
    "    ])\n"
   ]
  },
  {
   "cell_type": "markdown",
   "metadata": {},
   "source": [
    "#### Target Classifier\n",
    "\n",
    "- If used, the target classifier is placed after the target type with no spaces.\n",
    "    - Allowed target classifiers are listed below: \n",
    "    - n: nodal (e.g., PTVn) \n",
    "    - p: primary (e.g., GTVp) \n",
    "    - sb: surgical bed (e.g., CTVsb) \n",
    "    - par: parenchyma (e.g., GTVpar) \n",
    "    - v:venous thrombosis (e.g., CTVv) \n",
    "    - vas: vascular (e.g., CTVvas)"
   ]
  },
  {
   "cell_type": "code",
   "execution_count": 27,
   "metadata": {},
   "outputs": [],
   "source": [
    "target_classifier_def = {\n",
    "    'n': 'nodal',\n",
    "    'p': 'primary',\n",
    "    'sb': 'surgical bed',\n",
    "    'par': 'parenchyma',\n",
    "    'v': 'venous thrombosis',\n",
    "    'vas': 'vascular'\n",
    "    }\n"
   ]
  },
  {
   "cell_type": "code",
   "execution_count": 28,
   "metadata": {},
   "outputs": [],
   "source": [
    "target_classifier_pat = ''.join([\n",
    "    r'(',               # Start of optional group\n",
    "    r'par|vas|sb|n|p|v',  # Target classifier options\n",
    "    r')?'               # End of the optional group\n",
    "    ])\n"
   ]
  },
  {
   "cell_type": "markdown",
   "metadata": {},
   "source": [
    "#### Target Number\n",
    "\n",
    "- For multiple spatially distinct targets Arabic numerals are used after the \n",
    "  target type and classifier (e.g., PTV1, PTV2, GTVp1, GTVp2)."
   ]
  },
  {
   "cell_type": "code",
   "execution_count": 29,
   "metadata": {},
   "outputs": [],
   "source": [
    "target_number_pat = ''.join([\n",
    "    r'(',         # Start of optional group\n",
    "    r'[0-9]{1,2}',  # Target number as 1 or 2 digits\n",
    "    r')?'         # End of the optional group\n",
    "    ])\n"
   ]
  },
  {
   "cell_type": "markdown",
   "metadata": {},
   "source": [
    "#### Base Target\n",
    "- Base target include first three parts of target structure name:\n",
    "  1. Target Type\n",
    "  2. Target Classifier\n",
    "  3. Target Number\n",
    "\n",
    "- The base target is grouped separately because it can be used as a cropping \n",
    "  designator for OARs. e.g. `Brain-GTV`"
   ]
  },
  {
   "cell_type": "code",
   "execution_count": 30,
   "metadata": {},
   "outputs": [],
   "source": [
    "base_target_pat = ''.join([\n",
    "    r'(?P<BaseTarget>',      # Start of named group BaseTarget\n",
    "    r'(?P<TargetType>',        # Start of named group TargetType\n",
    "    target_type_pat,             # Target Type pattern definition\n",
    "    r')',                      # End of the TargetType group\n",
    "    r'(?P<TargetClassifier>',  # Start of optional named group TargetClassifier\n",
    "    target_classifier_pat,       # Target Classifier pattern definition\n",
    "    r')?',                     # End of the optional TargetClassifier group\n",
    "    r'(?P<TargetNumber>',      # Start of optional named group TargetNumber\n",
    "    target_number_pat,           # Target Number pattern definition\n",
    "    r')?',                     # End of the optional TargetNumber group\n",
    "    r')',                    # End of the BaseTarget group\n",
    "    ])\n"
   ]
  },
  {
   "cell_type": "markdown",
   "metadata": {},
   "source": [
    "- Imaging modality follows the type/classifier/enumerator with an underscore \n",
    "  and then the image modality type (CT, PT, MR, SP)\n",
    "\n",
    "- Image sequence order is indicated by a number immediately following the \n",
    "  image modality.\n",
    "\n",
    "- Multiple modalities can be included.  No additional underscore is used."
   ]
  },
  {
   "cell_type": "code",
   "execution_count": 31,
   "metadata": {},
   "outputs": [],
   "source": [
    "modality_def = {\n",
    "    'CT': 'CT',\n",
    "    'PT': 'Pet',\n",
    "    'MR': 'MRI',\n",
    "    'US': 'Ultrasound',\n",
    "    'SP': 'Spect'\n",
    "    }\n"
   ]
  },
  {
   "cell_type": "code",
   "execution_count": 32,
   "metadata": {},
   "outputs": [],
   "source": [
    "modality_pat = ''.join([\n",
    "    r'(',            # Start of optional group\n",
    "    r'(?:_)',          # Underscore delimiter (Not captured)\n",
    "    r'(?P<Modality>',  # Start of optional named group Modality\n",
    "    r'('                 # Beginning of optional repeat group\n",
    "    r'(CT|PT|MR|US|SP)',   # Modality designator group\n",
    "    r'[0-9]{0,2}',         # Optional sequence number as 1 or 2 digits\n",
    "    r'){1,2}'            # repeatable group for multiple modalities\n",
    "    r')'               # End of named group Modality\n",
    "    r')?'            # End of optional group\n",
    "    ])\n"
   ]
  },
  {
   "cell_type": "markdown",
   "metadata": {},
   "source": [
    "#### Structure Indicators\n",
    "- Structure indicators follow the type/classifier/enumerator/imaging with an underscore prefix\n",
    "- Structure indicators are values from the approved structure nomenclature list.\n",
    "- Examples: CTV_A_Aorta, CTV_A_Celiac, GTV_Preop, PTV_Boost, PTV_Eval, PTV_MR2_Prostate\n",
    "\n",
    "\n",
    "**Note:**\n",
    "- Relative dose indicators have a similar pattern to Structure Indicators, but \n",
    "  are limited to three text strings: 'High', 'Mid', or 'Low' (see next section).\n",
    "- None of the current valid Structure Indicators begin with this text.\n",
    "- Add a check to the pattern for these three text strings."
   ]
  },
  {
   "cell_type": "code",
   "execution_count": 33,
   "metadata": {},
   "outputs": [],
   "source": [
    "struct_ind_pat = ''.join([\n",
    "    r'(',                      # Start of optional group\n",
    "    r'(?:_)',                    # Underscore delimiter (Not captured)\n",
    "    r'(?!Hig|Mid|Low)',          # Exclude text that begins with one of these patterns\n",
    "\n",
    "    r'(?P<StructureIndicator>',  # Start of named group StructureIndicator\n",
    "    r'(',                          # Start of group\n",
    "    basic_sub_structure_pat,         # Sub-structure pattern definition\n",
    "    r')+'                          # End of repeatable group\n",
    "    r')',                        # End of named group StructureIndicator\n",
    "    r')?'                      # End of optional group\n",
    "    ])\n"
   ]
  },
  {
   "cell_type": "markdown",
   "metadata": {},
   "source": [
    "- If the structure is cropped back from the external contour for the patient, \n",
    "  then the quantity of cropping by “-xx” millimeters is placed at the end of \n",
    "  the target string. The cropping length follows the dose indicator, with the \n",
    "  amount of cropping indicated by xx millimeters \n",
    "  (e.g., PTV_Eval_7000-08, PTV-03, CTVp2-05)."
   ]
  },
  {
   "cell_type": "code",
   "execution_count": 34,
   "metadata": {},
   "outputs": [],
   "source": [
    "target_crop_pat = ''.join([\n",
    "    r'(?P<ExternalCrop>',  # Start of optional named group ExternalCrop\n",
    "    r'(?P<Sign>-)',          # Negative sign '-' as its own named group\n",
    "    r'(?P<Size>[0-9]{2})',   # 2-digit Number\n",
    "    r')?'                  # End of optional group\n",
    "    ])\n"
   ]
  },
  {
   "cell_type": "markdown",
   "metadata": {},
   "source": [
    "- If a custom qualifier string is used, the custom qualifier is placed at the \n",
    "  end after a ‘^’ character (e.g., PTV^Physician1, GTV_Liver^ICG).\n",
    "- Include *custom_qualifier_pat* from non-target structures"
   ]
  },
  {
   "cell_type": "markdown",
   "metadata": {},
   "source": [
    "#### Dose Specifier"
   ]
  },
  {
   "cell_type": "markdown",
   "metadata": {},
   "source": [
    "- Dose specifier is placed at the end of the target string prefixed with an underscore character.\n",
    "\n",
    "- Dose specifier can be one of:\n",
    "   - Relative Dose Level\n",
    "   - Numeric dose\n",
    "   - Dose per Fraction and number of Fractions\n"
   ]
  },
  {
   "cell_type": "markdown",
   "metadata": {},
   "source": [
    "##### Relative Dose\n",
    "- Relative dose is recommended\n",
    "    - High (e.g., PTV_High, CTV_High, GTV_High)\n",
    "    - Mid: (e.g., PTV_Mid, CTV_Mid, GTV_Mid)\n",
    "    - Low (e.g., PTV_Low, CTV_Low, GTV_Low) ◦ \n",
    "\n",
    "- Mid+2-digit enumerator: allows specification of more than three relative \n",
    "  dose levels (e.g., PTV_Low, PTV_Mid01, PTV_Mid02, PTV_Mid03, PTV_High). \n",
    "- Lower numbers correspond to lower dose values."
   ]
  },
  {
   "cell_type": "code",
   "execution_count": 35,
   "metadata": {},
   "outputs": [],
   "source": [
    "rel_dose_pat = ''.join([\n",
    "    r'(?P<RelativeDose>',     # Start of named group RelativeDose\n",
    "    r'High|',                   # 'High' relative dose    OR\n",
    "    r'Low|',                    # 'Low'  relative dose    OR\n",
    "    r'Mid',                     # 'Mid'  relative dose   with\n",
    "    r'(?P<RelativeDoseLevel>',  # Optional RelativeDoseLevel group\n",
    "    r'[0-9]{2}',                  # 2-digit number\n",
    "    r')?',                      # End of Optional RelativeDoseLevel group\n",
    "    r')'                      # End of RelativeDose group\n",
    "    ])\n"
   ]
  },
  {
   "cell_type": "markdown",
   "metadata": {},
   "source": [
    "##### Numeric Dose\n",
    "- Units of cGy are recommended for numeric dose values. (e.g., PTV_5040).\n",
    "- When specified in units of Gy, then ‘Gy’ should be appended to the numeric \n",
    "  value of the dose (e.g., PTV_50.4Gy). \n",
    "- For systems that do not allow use of a period, the ‘p’ character should be \n",
    "  substituted (e.g., PTV_50p4Gy)"
   ]
  },
  {
   "cell_type": "code",
   "execution_count": 36,
   "metadata": {},
   "outputs": [],
   "source": [
    "numeric_dose_pat = ''.join([\n",
    "    r'(?P<NumericDose>',  # Start of optional named group NumericDose\n",
    "    r'[0-9]+',              # Number before decimal place\n",
    "    r'[.p]?',               # '.' or 'p' as optional decimal place\n",
    "    r'[0-9]*',              # Optional Number after decimal place\n",
    "    r'[Gy]*',               # Optional units of Gy\n",
    "    r')'                  # End of NumericDose group\n",
    "    ])\n"
   ]
  },
  {
   "cell_type": "markdown",
   "metadata": {},
   "source": [
    "##### Dose per Fraction and number of Fractions\n",
    "- If the dose indicated must reflect the number of fractions used to reach the \n",
    "  total dose, then the numeric values of <u>dose per fraction</u> in cGy, or \n",
    "  in Gy with the <u>unit specifier</u>, '<u>x</u>' followed by the <u>number \n",
    "  of fractions</u> (e.g., PTV_Liver_2000x3 or PTV_Liver_20Gyx3)."
   ]
  },
  {
   "cell_type": "code",
   "execution_count": 37,
   "metadata": {},
   "outputs": [],
   "source": [
    "dose_fraction_pat = ''.join([\n",
    "    r'(?P<DoseFractionation>',  # Start of  named group DoseFractionation\n",
    "    r'[0-9]+',                    # Number before decimal place\n",
    "    r'[.p]?',                     # '.' or 'p' as optional decimal place\n",
    "    r'[0-9]*',                    # Optional Number after decimal place\n",
    "    r'[Gy]*',                     # Optional units of Gy\n",
    "    r'x',                         # Fractions delimiter 'x'\n",
    "    r'[0-9]+',                    # Number of fractions\n",
    "    r')'                        # End of DoseFractionation group\n",
    "    ])\n"
   ]
  },
  {
   "cell_type": "markdown",
   "metadata": {},
   "source": [
    "- Dose Fractionation must be specified before Numeric Dose because otherwise Numeric Dose will catch part of Dose Fractionation"
   ]
  },
  {
   "cell_type": "code",
   "execution_count": 38,
   "metadata": {},
   "outputs": [],
   "source": [
    "dose_specifier = ''.join([\n",
    "   '(',                   # Beginning of optional Dose Specifier group\n",
    "    r'(?:_)',               # Underscore delimiter (Not captured)\n",
    "    r'(?P<DoseSpecifier>',  # Start of named group DoseSpecifier\n",
    "    rel_dose_pat,             # Relative Dose pattern definition\n",
    "    '|',                    # OR\n",
    "    dose_fraction_pat,        # Dose Fractionation pattern definition\n",
    "    '|',                    # OR\n",
    "    numeric_dose_pat,         # Numeric Dose pattern definition\n",
    "    ')'                     # End of Dose Specifier options\n",
    "    ')?',                 # End of optional Dose Specifier group\n",
    "   ])\n"
   ]
  },
  {
   "cell_type": "markdown",
   "metadata": {},
   "source": [
    "#### Custom Qualifier\n",
    "- Custom Qualifier indicated by '^' e.g. Lungs^Ex"
   ]
  },
  {
   "cell_type": "code",
   "execution_count": 39,
   "metadata": {},
   "outputs": [],
   "source": [
    "target_custom_qualifier_pat = ''.join([\n",
    "    r'('                 # Start of optional group\n",
    "    r'(?:\\^)'              # '^' character (not captured)\n",
    "    r'(?P<CustomTarget>',  # Start of optional named group Custom\n",
    "    r'.+'                    # Remainder of text\n",
    "    r')'                   # End of named group Custom\n",
    "    r')?'                # End of optional group\n",
    "    ])\n"
   ]
  },
  {
   "cell_type": "markdown",
   "metadata": {},
   "source": [
    "#### Combine Target patterns\n",
    "**Order of Name Components:**  (Underline indicates required component)\n",
    "\n",
    "1. <u>Base Target</u>  (consists of three parts)\n",
    "   1. <u>Target Type</u>\n",
    "   2. Target Classifier\n",
    "   3. Target Number\n",
    "2. Modality\n",
    "3. Structure Indicator\n",
    "4. Dose Specifier\n",
    "5. Target Cropping from External\n",
    "6.  Custom Qualifier\n",
    "\n",
    "- Pattern must match the entire string\n"
   ]
  },
  {
   "cell_type": "code",
   "execution_count": 40,
   "metadata": {},
   "outputs": [],
   "source": [
    "target_pattern = ''.join([\n",
    "    r'(',                         # Start of all target group patterns\n",
    "    base_target_pat,              # Base Target pattern definition\n",
    "    modality_pat,                 # Target Modality pattern definition\n",
    "    struct_ind_pat,               # Structure pattern definition\n",
    "    dose_specifier,               # Dose Specifier pattern definition\n",
    "    target_crop_pat,              # Target Cropping pattern definition\n",
    "    target_custom_qualifier_pat,  # Custom Qualifier pattern definition\n",
    "    r')',                         # End of all target group patterns\n",
    "    ])\n"
   ]
  },
  {
   "cell_type": "markdown",
   "metadata": {},
   "source": [
    "#### Cropped OARs\n",
    "- OARs can have target volumes subtracted from them to exclude tumour from \n",
    "  OAR dose calculations.\n",
    "- This is not mentioned explicitly in TG263, but is included in their structure \n",
    "  examples.\n",
    "- The pattern created here is inferred from the TG263 examples.\n",
    "- **OAR Component**  The allowable OAR components includes:\n",
    "    1. <u>Primary Structure</u>\n",
    "    2. Spatial Indicator\n",
    "- **Target Component**  The allowable target components include:\n",
    "     1. <u>Target Type</u>\n",
    "     2. Target Classifier\n",
    "     3. Target Number\n"
   ]
  },
  {
   "cell_type": "code",
   "execution_count": 41,
   "metadata": {},
   "outputs": [],
   "source": [
    "cropped_oar_pat = ''.join([\n",
    "    r'(?P<CroppedOAR>',   # Start of named group CroppedOAR\n",
    "    r'(',                   # Start of group\n",
    "    basic_sub_structure_pat,  # Sub-structure pattern definition\n",
    "    r')+'                   # End of repeatable group\n",
    "    r')'                  # End of named group CroppedOAR\n",
    "    ])\n"
   ]
  },
  {
   "cell_type": "code",
   "execution_count": 42,
   "metadata": {},
   "outputs": [],
   "source": [
    "target_crop_pat = ''.join([\n",
    "    r'(?P<TargetCrop>',  # Start of named group TargetCrop\n",
    "    target_type_pat,       # Target Type pattern definition\n",
    "    r'(',                  # Start of optional group\n",
    "    target_classifier_pat,   # Target Classifier pattern definition\n",
    "    r')?',                 # End of optional group\n",
    "    r'(',                  # Start of optional group\n",
    "    target_number_pat,       # Target Number pattern definition\n",
    "    r')?',                 # End of optional group\n",
    "    r')'                 # End of the BaseTarget group\n",
    "    ])\n"
   ]
  },
  {
   "cell_type": "code",
   "execution_count": 43,
   "metadata": {},
   "outputs": [],
   "source": [
    "oar_crop_pat = ''.join([\n",
    "    r'(?P<OARCrop>',  # Start of named group OARCrop\n",
    "    cropped_oar_pat,    # Cropped OAR pattern definition\n",
    "    r'-',               # negative sign\n",
    "    target_crop_pat,    # TargetCrop pattern definition\n",
    "    r')'              # End of the OARCrop group\n",
    "    ])\n"
   ]
  },
  {
   "cell_type": "markdown",
   "metadata": {},
   "source": [
    "### All Patterns Combined\n",
    "- Target patterns must come before non-target patterns or non-target patterns \n",
    "  will capture target structures."
   ]
  },
  {
   "cell_type": "code",
   "execution_count": 44,
   "metadata": {},
   "outputs": [],
   "source": [
    "all_structure_pattern = ''.join([\n",
    "    r'(',              # Start of primary group of patterns\n",
    "    not_evaluated_pat,   # Not Evaluated pattern definition\n",
    "    r'|',              # OR\n",
    "    target_pattern,      # Target pattern definition\n",
    "    r'|',              # OR\n",
    "    oar_crop_pat,        # OAR with Target crop pattern definition\n",
    "    r'|',              # OR\n",
    "    basic_structure_pat,  # Non-Target pattern definition\n",
    "    r')',              # End of primary group of patterns\n",
    "    ])\n"
   ]
  },
  {
   "cell_type": "code",
   "execution_count": 45,
   "metadata": {},
   "outputs": [],
   "source": [
    "structure_pat = re.compile(all_structure_pattern)\n"
   ]
  },
  {
   "cell_type": "markdown",
   "metadata": {},
   "source": [
    "## TG263 examples for testing"
   ]
  },
  {
   "cell_type": "markdown",
   "metadata": {},
   "source": [
    "### Target examples from task group text\n"
   ]
  },
  {
   "cell_type": "code",
   "execution_count": 46,
   "metadata": {},
   "outputs": [],
   "source": [
    "target_examples = ['PTVn', 'GTVp', 'CTVsb', 'GTVpar', 'CTVv', 'CTVvas',\n",
    "                   'PTV1', 'PTV2', 'GTVp1', 'GTVp2', 'PTVp1_CT1PT1', 'GTV_CT2',\n",
    "                   'CTV_A_Aorta', 'CTV_A_Celiac', 'GTV_Preop', 'PTV_Boost',\n",
    "                   'PTV_Eval', 'PTV_MR2_Prostate', 'PTV_High', 'CTV_Mid',\n",
    "                   'PTV_Low', 'PTV_Low', 'PTV_Mid01', 'PTV_Mid02', 'PTV_Mid03',\n",
    "                   'PTV_High', 'PTV_5040', 'PTV_50.4Gy', 'PTV_50p4Gy',\n",
    "                   'PTV_Liver_2000x3', 'PTV_Liver_20Gyx3', 'PTV^Physician1',\n",
    "                   'GTV_Liver^ICG', 'PTV_Eval_7000-08', 'PTV-03', 'CTVp2-05',\n",
    "                   'zPTVopt']\n"
   ]
  },
  {
   "cell_type": "markdown",
   "metadata": {},
   "source": [
    "### Non-Target examples from task group text"
   ]
  },
  {
   "cell_type": "code",
   "execution_count": 47,
   "metadata": {},
   "outputs": [],
   "source": [
    "non_target_examples = ['Lungs', 'Kidneys', 'Hippocampi', 'LNs', 'Ribs_L',\n",
    "                       'Femur_Head', 'Ears_External', 'Bowel_Bag', 'Lung_L',\n",
    "                       'Lung_LUL', 'Lung_RLL', 'OpticNrv_PRV03_L', 'SeminalVes',\n",
    "                       'SeminalVes_Dist', 'A_Aorta', 'A_Carotid', 'V_Portal',\n",
    "                       'V_Pulmonary', 'LN_Ax_L1', 'LN_IMN', 'CN_IX_L',\n",
    "                       'CN_XII_R', 'Glnd_Submand', 'Bone_Hyoid', 'Bone_Pelvic',\n",
    "                       'Musc_Masseter', 'Musc_Sclmast_L', 'Spc_Bowel',\n",
    "                       'Spc_Retrophar_L', 'Sinus_Frontal', 'Sinus_Maxillary',\n",
    "                       'Brainstem_PRV', 'SpinalCord_PRV05', 'Brainstem_PRV03',\n",
    "                       'OpticChiasm_PRV3', 'Brain~', 'Lung~_L', 'Lungs^Ex',\n",
    "                       'CaudaEquina', 'OpticChiasm', 'A_Mesenteric',\n",
    "                       'A_Illiac', 'CN_I', 'Parotid']\n"
   ]
  },
  {
   "cell_type": "markdown",
   "metadata": {},
   "source": [
    "### Structure names from TG263_Nomenclature_Worksheet_20170815"
   ]
  },
  {
   "cell_type": "code",
   "execution_count": 48,
   "metadata": {},
   "outputs": [],
   "source": [
    "file_name = 'TG263_Nomenclature_Worksheet_20170815.csv'\n",
    "file_path = reference_path / file_name\n",
    "name_table = pd.read_csv(file_path)\n",
    "names = name_table['TG263-Primary Name'].drop_duplicates()\n",
    "names.dropna(inplace=True)\n",
    "table_examples = list(names)\n"
   ]
  },
  {
   "cell_type": "markdown",
   "metadata": {},
   "source": [
    "### Structure names from the TG263 Eclipse Templates"
   ]
  },
  {
   "cell_type": "markdown",
   "metadata": {},
   "source": [
    "**Xpath searches for Structure Templates**\n",
    "\n",
    "> ```\n",
    "> /StructureTemplate/Structures/Structure\n",
    "> /StructureTemplate/Structures/Structure/@ID\n",
    "> /StructureTemplate/Structures/Structure/Identification/VolumeType\n",
    "> /StructureTemplate/Structures/Structure/Identification/StructureCode/@Code\n",
    "> /StructureTemplate/Structures/Structure/Identification/StructureCode/@CodeScheme\n",
    "> ```"
   ]
  },
  {
   "cell_type": "code",
   "execution_count": 49,
   "metadata": {},
   "outputs": [],
   "source": [
    "names = []\n",
    "template_folder = reference_path / 'EclipseStructureTemplates'\n",
    "for template_file in template_folder.glob('*.xml'):\n",
    "    tree = ET.parse(template_file)\n",
    "    root = tree.getroot()\n",
    "    for struct in root.findall(r'.//Structure'):\n",
    "        volume = struct.find(r'./Identification/VolumeType')\n",
    "        if volume:\n",
    "            volume_type = volume.text\n",
    "        else:\n",
    "            volume_type = None\n",
    "        structure_code = struct.find(r'./Identification/StructureCode')\n",
    "        if structure_code:\n",
    "            s_code = structure_code.attrib['Code']\n",
    "            s_scheme = structure_code.attrib['CodeScheme']\n",
    "        else:\n",
    "            s_code = None\n",
    "            s_scheme = None\n",
    "        structure = {\n",
    "            'Name': struct.attrib['ID'],\n",
    "            'VolumeType': volume_type,\n",
    "            'Code': s_code,\n",
    "            'Scheme': s_scheme\n",
    "            }\n",
    "        names.append(structure)\n",
    "template_structures = pd.DataFrame(names)\n",
    "#xw.view(template_structures)\n",
    "names = list(template_structures.Name)\n"
   ]
  },
  {
   "cell_type": "markdown",
   "metadata": {},
   "source": [
    "### Merge all of the structure names"
   ]
  },
  {
   "cell_type": "code",
   "execution_count": 50,
   "metadata": {},
   "outputs": [],
   "source": [
    "def replace_num_placeholders(text:str)->str:\n",
    "    '''Replace number placeholders with numbers for testing.\n",
    "\n",
    "    Replace 'xxxx' with '5040'\n",
    "    Replace 'xx' with '09'\n",
    "    Replace 'PRVx' with 'PRV5' (Just 'x' will catch fractions designators.)\n",
    "    Remove leading and trailing spaces.\n",
    "\n",
    "    Args:\n",
    "        text (str): Text to clean\n",
    "\n",
    "    Returns:\n",
    "        str: Cleaned text\n",
    "    '''\n",
    "    txt4 = text.replace('xxxx', '5040')\n",
    "    txt2 = txt4.replace('xx', '09')\n",
    "    txt1 = txt2.replace('PRVx', 'PRV5')\n",
    "    txt_final = txt1.strip()\n",
    "    return txt_final\n",
    "\n",
    "\n",
    "examples = [replace_num_placeholders(name)\n",
    "            for name in chain(target_examples,\n",
    "                               non_target_examples,\n",
    "                               table_examples,\n",
    "                               names)]\n"
   ]
  },
  {
   "cell_type": "markdown",
   "metadata": {},
   "source": [
    "### Save the list to a text file"
   ]
  },
  {
   "cell_type": "code",
   "execution_count": 51,
   "metadata": {},
   "outputs": [
    {
     "data": {
      "text/plain": [
       "11038"
      ]
     },
     "execution_count": 51,
     "metadata": {},
     "output_type": "execute_result"
    }
   ],
   "source": [
    "Path('examples.txt').write_text('\\n'.join(examples))\n"
   ]
  },
  {
   "cell_type": "markdown",
   "metadata": {},
   "source": [
    "### Apply the pattern matching to the list of structure names"
   ]
  },
  {
   "cell_type": "code",
   "execution_count": 52,
   "metadata": {},
   "outputs": [],
   "source": [
    "matched_structure_list = []\n",
    "for structure in examples:\n",
    "    mtch = structure_pat.fullmatch(structure)\n",
    "    if mtch:\n",
    "        mtch_dict = mtch.groupdict()\n",
    "        mtch_dict['Structure'] = structure\n",
    "    else:\n",
    "        mtch_dict = {'Structure': structure}\n",
    "    matched_structure_list.append(mtch_dict)\n",
    "\n",
    "matched_structures = pd.DataFrame(matched_structure_list)\n",
    "matched_structures.drop_duplicates(inplace=True)\n",
    "matched_structures.set_index('Structure', inplace=True)\n"
   ]
  },
  {
   "cell_type": "markdown",
   "metadata": {},
   "source": [
    "### Get Dose Values"
   ]
  },
  {
   "cell_type": "code",
   "execution_count": 53,
   "metadata": {},
   "outputs": [],
   "source": [
    "dose_values = matched_structures.DoseSpecifier.apply(to_cgy)\n",
    "matched_structures = matched_structures.join(dose_values)\n"
   ]
  },
  {
   "cell_type": "markdown",
   "metadata": {},
   "source": [
    "### Identify match failures"
   ]
  },
  {
   "cell_type": "code",
   "execution_count": 54,
   "metadata": {},
   "outputs": [],
   "source": [
    "unmatched_idx = matched_structures.isna().all(axis='columns')\n",
    "unmatched_idx.name = 'Unmatched'\n",
    "matched_structures = matched_structures.join(unmatched_idx)\n"
   ]
  },
  {
   "cell_type": "markdown",
   "metadata": {},
   "source": [
    "### Parse Non-Target Structures"
   ]
  },
  {
   "cell_type": "code",
   "execution_count": 55,
   "metadata": {},
   "outputs": [],
   "source": [
    "# Get Non-Target Structure Names.\n",
    "nt_idx = ~matched_structures.StructureName.isna()\n",
    "names = matched_structures.loc[nt_idx, ['StructureName', 'Unmatched']]\n",
    "names['Remainder'] = names.StructureName\n",
    "\n",
    "# Sequentially apply Non-Target Parsing Rules\n",
    "names = extract_name_group(names, major_category_pat, 'StructureCategory')\n",
    "names = extract_name_group(names, custom_oar_qualifier_pat, 'CustomStructure')\n",
    "\n",
    "is_vb = names.StructureCategory == 'VB'\n",
    "names = extract_name_group(names, vb_ref_pat, 'VertebraeLevel', is_vb)\n",
    "\n",
    "is_cn = names.StructureCategory == 'CN'\n",
    "names = extract_name_group(names, cn_ref_pat, 'NerveLevel', is_cn)\n",
    "\n",
    "is_ln = names.StructureCategory == 'LN'\n",
    "names = extract_name_group(names, nn_ref_pat, 'NeckNode', is_ln)\n",
    "\n",
    "names = extract_name_group(names, spatial_pat, 'SpatialIndicator')\n",
    "names = extract_name_group(names, prv_pat, 'Prv')\n",
    "names = extract_name_group(names, partial_pat, 'Partial')\n",
    "names = extract_name_group(names, base_structure_pat, 'BaseStructure')\n",
    "\n",
    "# Merge Parsed Non-Target Structures with Parsed Target table\n",
    "names.drop(columns=['StructureName', 'Unmatched'], inplace=True)\n",
    "matched_structures = matched_structures.join(names)\n"
   ]
  },
  {
   "cell_type": "markdown",
   "metadata": {},
   "source": [
    "### Identify Non-Target Parsing Failures"
   ]
  },
  {
   "cell_type": "code",
   "execution_count": 56,
   "metadata": {},
   "outputs": [],
   "source": [
    "matched_structures['Um2'] = matched_structures.Remainder.str.len() > 0\n",
    "matched_structures.Um2 = matched_structures.Um2.fillna(False)\n",
    "matched_structures.Unmatched.where(~matched_structures.Um2, True, inplace=True)\n",
    "matched_structures.drop(columns=['Um2'], inplace=True)\n"
   ]
  },
  {
   "cell_type": "markdown",
   "metadata": {},
   "source": [
    "### Save the Parsing Test Examples"
   ]
  },
  {
   "cell_type": "code",
   "execution_count": 57,
   "metadata": {},
   "outputs": [],
   "source": [
    "save_file = reference_path / 'Parsed Examples.xlsx'\n",
    "xw.view(matched_structures)\n",
    "wb = xw.books.active\n",
    "wb.save(save_file)\n"
   ]
  },
  {
   "cell_type": "markdown",
   "metadata": {},
   "source": [
    "## Additional Notes and Issues"
   ]
  },
  {
   "cell_type": "markdown",
   "metadata": {},
   "source": [
    "### Possible Typos in the Examples"
   ]
  },
  {
   "cell_type": "markdown",
   "metadata": {},
   "source": [
    "#### Spelling Mistakes?\n",
    "> **I think there is a spelling mistake in the following example structure names**\n",
    "> - `LN_lliac_Int_R` Should it be `LN_Iliac_Int_R`?\n",
    "> - `Colon_PTV09` Should it be `Colon_PRV09`?"
   ]
  },
  {
   "cell_type": "markdown",
   "metadata": {},
   "source": [
    "#### *Wall* Designator Placement?\n",
    "\n",
    "**Two different orders are given for designating the _wall_ of an organ:**\n",
    "> - `Bladder_Wall` as *Bladder Wall*\n",
    "> - `Rectal_Wall` as *Rectal Wall*<br>  \n",
    "> and<br>\n",
    "> - `Wall_Vagina` as *Wall of vagina*\n",
    "- The *Wall* designator is critical for evaluating dose, so order should be \n",
    "- standardized for this. Based on the discussion in the text, I suspect that \n",
    "  `Wall_Vagina` is a typographical error, and the *Wall* designator is intended \n",
    "  to follow the primary organ name.\n"
   ]
  },
  {
   "cell_type": "markdown",
   "metadata": {},
   "source": [
    "### Examples not Referenced in the Manuscript"
   ]
  },
  {
   "cell_type": "markdown",
   "metadata": {},
   "source": [
    "#### Spatial Indicators\n",
    "**The Spatial Indicator (Middle) `M` is used in the examples, but is not mentioned in the document.**\n",
    "\n",
    "- `Musc_Constrict_M` is the middle pharyngeal constrictor.\n",
    "- Include `M` as *Middle* in the table of Spatial Indicators.\n",
    "- Consider adding `U` as *Upper* in the table of Spatial Indicators.\n",
    "- Using `L` as *Lower* would conflict with `L` as *Left*.\n",
    "- Should *Sup* and *Inf* be used instead of *Upper* and *Lower*?"
   ]
  },
  {
   "cell_type": "markdown",
   "metadata": {},
   "source": [
    "#### Bolus\n",
    "**Bolus with units is given as an example, but bolus is not mentioned in the document.**\n",
    "- `Bolus_09mm`\n",
    "- Below is a regex pattern based on the the above example"
   ]
  },
  {
   "cell_type": "code",
   "execution_count": 58,
   "metadata": {},
   "outputs": [],
   "source": [
    "bolus_pat = ''.join([\n",
    "    r'^'                   # Beginning of string.\n",
    "    r'(?P<Bolus>',         # Start of named group Bolus\n",
    "    r'Bolus'                 # Bolus designator\n",
    "    r'(?P<BolusThickness>',  # Start of optional named group BolusThickness\n",
    "    r'[0-9]{1,2}'              # Expansion size as 1 or 2 digits\n",
    "    r'[cm]m'                   # cm or mm units\n",
    "    r')?'                    # End of optional BolusThickness group\n",
    "    r')'                   # End of Bolus group\n",
    "    r'$'                   # End of string.\n",
    "    ])\n"
   ]
  },
  {
   "cell_type": "markdown",
   "metadata": {},
   "source": [
    "### Derived Structures\n",
    "\n",
    "Derived Structures are discussed in the beginning of the TG263 document \n",
    "(see below), but no guidance is explicitly given on nomenclatures for \n",
    "derivative structures except for targets cropped back from skin \n",
    "(e.g. `PTV-03`) and low-dose PTV volumes that exclude overlapping \n",
    "high-dose volumes (`PTV!`).\n",
    "\n",
    "> **4.4 Derived and Planning Structures**<br>\n",
    "> Derivative structures are formed from target or non-target structures, \n",
    "> typically using Boolean operations, e.g., intersection (x AND y), combination \n",
    "> (x OR y), subtraction (x AND NOT y), and margins (x+1.0). Five institutions \n",
    "> indicated that nomenclatures for derivative structures were used to define\n",
    "> conditions for evaluating the dose distribution (e.g., OAR contour excluding \n",
    "> PTV). Variations in several structures were common (e.g., body-ptv, PTV_EVAL,\n",
    ">  eval_PTV), but wide variation was noted for structures involving multiple \n",
    ">  concepts (e.g., NS_Brain-PTVs, optCTV-N2R5L_MRT1_ex-3600-v12).\n",
    "\n",
    "- Parsing instructions have been included for targets cropped from OARs, since \n",
    "  this form appears in multiple TG263 examples.\n",
    "\n",
    "- Derived *Normal Tissue* examples are discussed below.\n"
   ]
  },
  {
   "cell_type": "markdown",
   "metadata": {},
   "source": [
    "#### *Normal Tissue* Structures\n",
    "**The following 'Normal Tissue' structure names are given in the examples, but not discussed in the text.**\n",
    "\n",
    "- `E-PTV_Ev05_xxxx` represents all tissue excluding the 5 mm expanded PTV. \n",
    "  Generated by subtracting the 5 mm expanded PTV receiving a dose of xxxx cGy \n",
    "  from the external contour.\n",
    "  \n",
    "- `E-PTV_xxxx` represents all tissue excluding the PTV. Generated by \n",
    "  subtracting the PTV receiving a dose of xxxx cGy from the external contour.\n",
    "\n",
    "- Should this be a special case structure pattern?\n",
    "- Below is a regex pattern based on the the above examples"
   ]
  },
  {
   "cell_type": "code",
   "execution_count": 59,
   "metadata": {},
   "outputs": [],
   "source": [
    "normal_t_pat = ''.join([\n",
    "    r'^'                  # Beginning of string.\n",
    "    r'(?P<NormalTissue>', # Start of named group NormalTissue\n",
    "    r'E-'                   # The text 'E-'\n",
    "    r'(?P<TargetCrop>',     # Start of named group TargetCrop\n",
    "    r'PTV'                    # The text 'PTV'\n",
    "    r'(?:'                    # Start of optional non-capturing group\n",
    "    r'_Ev'                      # the text '_Ev'\n",
    "    r'(?P<TargetExpansion>',    # Start of named group TargetExpansion\n",
    "    r'[0-9]{2}'                   # Expansion size as 2 digits\n",
    "    r')'                        # End of TargetExpansion group\n",
    "    r')?'                     # End of optional group\n",
    "    r'(?:'                    # Start of optional non-capturing group\n",
    "    r'_'                        # '_' s delimiter\n",
    "    r'(?P<TargetDose>',         # Start of named group TargetDose\n",
    "    r'[0-9]{4}'                   # Target dose in cGy using 4 digits\n",
    "    r')'                        # End of TargetDose group\n",
    "    r')?'                     # End of optional non-capturing group\n",
    "    r')'                    # End of TargetCrop group\n",
    "    r')',                 # End of NormalTissue group\n",
    "    r'$'                  # End of string.\n",
    "    ])\n"
   ]
  },
  {
   "cell_type": "markdown",
   "metadata": {},
   "source": [
    "### Name Length Limitations\n",
    "- If it is not possible to follow the guidelines and remain within the \n",
    "  16-character limit, then preserve the relative ordering but remove underscore \n",
    "  characters, progressing from left to right as needed to meet the limit \n",
    "  (e.g PTVLiverR_2000x3.) <u>This last resort scenario undermines the \n",
    "  use of automated tools</u>.\n",
    "\n",
    "- It is possible, though not simple, to accommodate this in parsing and \n",
    "  checking functions."
   ]
  },
  {
   "cell_type": "markdown",
   "metadata": {},
   "source": [
    "## Beyond the TG263 Standard"
   ]
  },
  {
   "cell_type": "markdown",
   "metadata": {},
   "source": [
    "### Dose Levels as Structure\n",
    "TG263 recommends the use of `IDL` as an Isodose Line e.g. IDL_5000 is the isodose line for 50 Gy.  However this does not appear to be in common use.  Eclipse has a default naming format used when generating isodose lines:\n",
    "- `Dose xxx[%]` or `Dose xxxx[cGy]`\n",
    "\n",
    "### Dose From Previous Treatment\n",
    "- An additional qualifier `_PREV` for isodose lines taken from previous treatment.<br>\n",
    "OR<br>\n",
    "- `_<name>` (where `<name>` represents the name of a previous plan)\n"
   ]
  },
  {
   "cell_type": "markdown",
   "metadata": {},
   "source": [
    "### Target Motion Modifiers\n",
    "No mention is made of 4DCT related target designations.  \n",
    "The following motion related designators may be useful.\n",
    "- `_MIP`\n",
    "- `_AVE`\n",
    "- `_##%` (Where `##` is the breathing phase the target was contoured on.)"
   ]
  },
  {
   "cell_type": "markdown",
   "metadata": {},
   "source": [
    "### Target Organ Subtraction\n",
    "There are times when modified targets are generated by subtracting a critical \n",
    "OAR from the initial target volume\n",
    "- `-<Organ>`  (Where `<Organ>` represents and valid OAR structure name)"
   ]
  },
  {
   "cell_type": "markdown",
   "metadata": {},
   "source": [
    "### Targets Combined\n",
    "- `_Total` as the combined structure for all targets at the same dose level."
   ]
  },
  {
   "cell_type": "markdown",
   "metadata": {},
   "source": [
    "### Additional Target Type\n",
    "- HTV as High Risk target Volume"
   ]
  },
  {
   "cell_type": "markdown",
   "metadata": {},
   "source": [
    "### Target Expansion\n",
    "PTVs are sometimes expanded to evaluate the conformality of a plan.\n",
    "While not mentioned in the text, the supplied TG263 examples suggest the \n",
    "following format:\n",
    "- `_Ev##` (where `##` is the uniform expansion size in mm)\n"
   ]
  },
  {
   "cell_type": "markdown",
   "metadata": {},
   "source": [
    "### Target Subgroup\n",
    "For optimization purposes a target volume may be divided into subsections \n",
    "based on the proximity to hight dose targets.  The TG263 document implies that \n",
    "such structures should be prefixed with a `z` or an `_`.\n",
    "\n",
    "An alternative would be to append a letter suffix to the full target volume to \n",
    "designate that it is a subsection.\n",
    "- `~a`, `~b` `~c`\n",
    "\n",
    "The `~` delimiter would have the same meaning of *partial structure* that it \n",
    "has for OAR structures.\n"
   ]
  },
  {
   "cell_type": "markdown",
   "metadata": {},
   "source": [
    "### Additional Target Classifiers\n",
    "- `_Edema` as target volume based on CNS edema imaging.\n",
    "- `_Cavity` as target volume based on a surgical cavity.\n",
    "- `_PREOP` as target volume based on pre-operative imaging.\n",
    "- `_RES` as target volume for post-op residual disease\n"
   ]
  },
  {
   "cell_type": "markdown",
   "metadata": {},
   "source": [
    "### Additional Target Modifiers\n",
    "- `eval_` Target volume explicitly intended for DVH evaluation\n",
    "- `opt_` Target volume only intended for optimization. (TG263 recommends that \n",
    "  such structures should be prefixed with a `z` or an `_`, but this may be too \n",
    "  generic of an indicator.)\n"
   ]
  },
  {
   "cell_type": "markdown",
   "metadata": {},
   "source": [
    "### OAR Multiple Occurrence. \n",
    "A suffix noting the occurrence number of the structure.\n",
    "- `<Organ>_##` (Where `<Organ>` represents and valid OAR structure name \n",
    "  and `##` represents the occurrence number)\n"
   ]
  },
  {
   "cell_type": "markdown",
   "metadata": {},
   "source": [
    "### Bolus Types\n",
    "The term *Bolus* may be too generic. \n",
    " Alternative bolus terms may also be needed.\n",
    "- `BartsBolus`\n",
    "- `WetGauze`\n",
    "- `PinkWax`"
   ]
  },
  {
   "cell_type": "markdown",
   "metadata": {},
   "source": [
    "### Foreign Location Reference Objects\n",
    "- `BB`\n",
    "- `Fiducial`\n",
    "- `MARKER`\n",
    "- `OVOID`\n",
    "- `Wire`\n"
   ]
  },
  {
   "cell_type": "markdown",
   "metadata": {},
   "source": [
    "### Structures for Field Placement Reference\n",
    "- `MatchPlane`\n",
    "- `Baseline`\n",
    "- `FieldEdge`\n"
   ]
  },
  {
   "cell_type": "markdown",
   "metadata": {},
   "source": [
    "### Structures for Correcting Density\n",
    "- `Air`\n",
    "- `Contrast`"
   ]
  },
  {
   "cell_type": "markdown",
   "metadata": {},
   "source": [
    "### Foreign Objects as Structures\n",
    "- `CIED`\n",
    "- `Prosthesis`\n",
    "- `Implant`\n",
    "- `Expander`\n",
    "- `Screws`\n",
    "- `Staples`\n",
    "- `Hardware`\n",
    "- `Metal`\n",
    "- `Dental`\n",
    "- `Anastomosis`\n",
    "- `Stoma`"
   ]
  }
 ],
 "metadata": {
  "kernelspec": {
   "display_name": "Python 3 (ipykernel)",
   "language": "python",
   "name": "python3"
  },
  "language_info": {
   "codemirror_mode": {
    "name": "ipython",
    "version": 3
   },
   "file_extension": ".py",
   "mimetype": "text/x-python",
   "name": "python",
   "nbconvert_exporter": "python",
   "pygments_lexer": "ipython3",
   "version": "3.9.7"
  }
 },
 "nbformat": 4,
 "nbformat_minor": 4
}
