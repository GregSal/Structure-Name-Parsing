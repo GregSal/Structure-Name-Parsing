{
 "cells": [
  {
   "cell_type": "markdown",
   "metadata": {},
   "source": [
    "# Generate Test Structure Names"
   ]
  },
  {
   "cell_type": "markdown",
   "metadata": {},
   "source": [
    "## Setup"
   ]
  },
  {
   "cell_type": "markdown",
   "metadata": {},
   "source": [
    "### Imports"
   ]
  },
  {
   "cell_type": "code",
   "execution_count": 1,
   "metadata": {},
   "outputs": [],
   "source": [
    "from typing import Dict, List, Union\n",
    "\n",
    "from pathlib import Path\n",
    "import re\n",
    "import xml.etree.ElementTree as ET\n",
    "from itertools import chain\n",
    "\n",
    "import pandas as pd\n",
    "import xlwings as xw\n"
   ]
  },
  {
   "cell_type": "markdown",
   "metadata": {},
   "source": [
    "### Paths"
   ]
  },
  {
   "cell_type": "code",
   "execution_count": 2,
   "metadata": {},
   "outputs": [],
   "source": [
    "reference_path = Path.cwd()\n"
   ]
  },
  {
   "cell_type": "markdown",
   "metadata": {},
   "source": [
    "## TG263 examples for testing"
   ]
  },
  {
   "cell_type": "markdown",
   "metadata": {},
   "source": [
    "### Target examples from task group text\n"
   ]
  },
  {
   "cell_type": "code",
   "execution_count": 3,
   "metadata": {},
   "outputs": [],
   "source": [
    "target_examples = ['PTVn', 'GTVp', 'CTVsb', 'GTVpar', 'CTVv', 'CTVvas',\n",
    "                   'PTV1', 'PTV2', 'GTVp1', 'GTVp2', 'PTVp1_CT1PT1', 'GTV_CT2',\n",
    "                   'CTV_A_Aorta', 'CTV_A_Celiac', 'GTV_Preop', 'PTV_Boost',\n",
    "                   'PTV_Eval', 'PTV_MR2_Prostate', 'PTV_High', 'CTV_Mid',\n",
    "                   'PTV_Low', 'PTV_Low', 'PTV_Mid01', 'PTV_Mid02', 'PTV_Mid03',\n",
    "                   'PTV_High', 'PTV_5040', 'PTV_50.4Gy', 'PTV_50p4Gy',\n",
    "                   'PTV_Liver_2000x3', 'PTV_Liver_20Gyx3', 'PTV^Physician1',\n",
    "                   'GTV_Liver^ICG', 'PTV_Eval_7000-08', 'PTV-03', 'CTVp2-05',\n",
    "                   'zPTVopt']\n"
   ]
  },
  {
   "cell_type": "markdown",
   "metadata": {},
   "source": [
    "### Non-Target examples from task group text"
   ]
  },
  {
   "cell_type": "code",
   "execution_count": 4,
   "metadata": {},
   "outputs": [],
   "source": [
    "non_target_examples = ['Lungs', 'Kidneys', 'Hippocampi', 'LNs', 'Ribs_L',\n",
    "                       'Femur_Head', 'Ears_External', 'Bowel_Bag', 'Lung_L',\n",
    "                       'Lung_LUL', 'Lung_RLL', 'OpticNrv_PRV03_L', 'SeminalVes',\n",
    "                       'SeminalVes_Dist', 'A_Aorta', 'A_Carotid', 'V_Portal',\n",
    "                       'V_Pulmonary', 'LN_Ax_L1', 'LN_IMN', 'CN_IX_L',\n",
    "                       'CN_XII_R', 'Glnd_Submand', 'Bone_Hyoid', 'Bone_Pelvic',\n",
    "                       'Musc_Masseter', 'Musc_Sclmast_L', 'Spc_Bowel',\n",
    "                       'Spc_Retrophar_L', 'Sinus_Frontal', 'Sinus_Maxillary',\n",
    "                       'Brainstem_PRV', 'SpinalCord_PRV05', 'Brainstem_PRV03',\n",
    "                       'OpticChiasm_PRV3', 'Brain~', 'Lung~_L', 'Lungs^Ex',\n",
    "                       'CaudaEquina', 'OpticChiasm', 'A_Mesenteric',\n",
    "                       'A_Illiac', 'CN_I', 'Parotid']\n"
   ]
  },
  {
   "cell_type": "markdown",
   "metadata": {},
   "source": [
    "### Structure names from TG263_Nomenclature_Worksheet_20170815"
   ]
  },
  {
   "cell_type": "code",
   "execution_count": 5,
   "metadata": {},
   "outputs": [],
   "source": [
    "file_name = 'TG263_Nomenclature_Worksheet_20170815.csv'\n",
    "file_path = reference_path / file_name\n",
    "name_table = pd.read_csv(file_path)\n",
    "names = name_table['TG263-Primary Name'].drop_duplicates()\n",
    "names.dropna(inplace=True)\n",
    "table_examples = list(names)\n"
   ]
  },
  {
   "cell_type": "markdown",
   "metadata": {},
   "source": [
    "### Structure names from the TG263 Eclipse Templates"
   ]
  },
  {
   "cell_type": "markdown",
   "metadata": {},
   "source": [
    "**Xpath searches for Structure Templates**\n",
    "\n",
    "> ```\n",
    "> /StructureTemplate/Structures/Structure\n",
    "> /StructureTemplate/Structures/Structure/@ID\n",
    "> /StructureTemplate/Structures/Structure/Identification/VolumeType\n",
    "> /StructureTemplate/Structures/Structure/Identification/StructureCode/@Code\n",
    "> /StructureTemplate/Structures/Structure/Identification/StructureCode/@CodeScheme\n",
    "> ```"
   ]
  },
  {
   "cell_type": "code",
   "execution_count": 6,
   "metadata": {},
   "outputs": [],
   "source": [
    "names = []\n",
    "template_folder = reference_path / 'EclipseStructureTemplates'\n",
    "for template_file in template_folder.glob('*.xml'):\n",
    "    tree = ET.parse(template_file)\n",
    "    root = tree.getroot()\n",
    "    for struct in root.findall(r'.//Structure'):\n",
    "        volume = struct.find(r'./Identification/VolumeType')\n",
    "        if volume is not None:\n",
    "            volume_type = volume.text\n",
    "        else:\n",
    "            volume_type = None\n",
    "        structure_code = struct.find(r'./Identification/StructureCode')\n",
    "        if structure_code is not None:\n",
    "            s_code = structure_code.attrib['Code']\n",
    "            s_scheme = structure_code.attrib['CodeScheme']\n",
    "        else:\n",
    "            s_code = None\n",
    "            s_scheme = None\n",
    "        structure = {\n",
    "            'Name': struct.attrib['ID'],\n",
    "            'VolumeType': volume_type,\n",
    "            'Code': s_code,\n",
    "            'Scheme': s_scheme\n",
    "            }\n",
    "        names.append(structure)\n",
    "template_structures = pd.DataFrame(names)\n",
    "#xw.view(template_structures)\n",
    "names = list(template_structures.Name)\n"
   ]
  },
  {
   "cell_type": "markdown",
   "metadata": {},
   "source": [
    "### Merge all of the structure names"
   ]
  },
  {
   "cell_type": "code",
   "execution_count": 7,
   "metadata": {},
   "outputs": [],
   "source": [
    "def replace_num_placeholders(text:str)->str:\n",
    "    '''Replace number placeholders with numbers for testing.\n",
    "\n",
    "    Replace 'xxxx' with '5040'\n",
    "    Replace 'xx' with '09'\n",
    "    Replace 'PRVx' with 'PRV5' (Just 'x' will catch fractions designators.)\n",
    "    Remove leading and trailing spaces.\n",
    "\n",
    "    Args:\n",
    "        text (str): Text to clean\n",
    "\n",
    "    Returns:\n",
    "        str: Cleaned text\n",
    "    '''\n",
    "    txt4 = text.replace('xxxx', '5040')\n",
    "    txt2 = txt4.replace('xx', '09')\n",
    "    txt1 = txt2.replace('PRVx', 'PRV5')\n",
    "    txt_final = txt1.strip()\n",
    "    return txt_final\n",
    "\n",
    "\n",
    "examples = [replace_num_placeholders(name)\n",
    "            for name in chain(target_examples,\n",
    "                               non_target_examples,\n",
    "                               table_examples,\n",
    "                               names)]\n"
   ]
  },
  {
   "cell_type": "markdown",
   "metadata": {},
   "source": [
    "### Save the list to a text file"
   ]
  },
  {
   "cell_type": "code",
   "execution_count": 8,
   "metadata": {},
   "outputs": [
    {
     "data": {
      "text/plain": [
       "11038"
      ]
     },
     "execution_count": 8,
     "metadata": {},
     "output_type": "execute_result"
    }
   ],
   "source": [
    "Path('examples.txt').write_text('\\n'.join(examples))\n"
   ]
  }
 ],
 "metadata": {
  "kernelspec": {
   "display_name": "StructureNameParsing",
   "language": "python",
   "name": "python3"
  },
  "language_info": {
   "codemirror_mode": {
    "name": "ipython",
    "version": 3
   },
   "file_extension": ".py",
   "mimetype": "text/x-python",
   "name": "python",
   "nbconvert_exporter": "python",
   "pygments_lexer": "ipython3",
   "version": "3.12.3"
  }
 },
 "nbformat": 4,
 "nbformat_minor": 2
}
